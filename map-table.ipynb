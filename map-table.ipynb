{
 "cells": [
  {
   "cell_type": "markdown",
   "metadata": {},
   "source": [
    "## MAP Table"
   ]
  },
  {
   "cell_type": "markdown",
   "metadata": {},
   "source": [
    "This is a table documenting the crosswalking decisions made when extracting resources from the LOC Free to Use Dragons collection for ingest into an Omeka S site using MODS and Dublin Core vocabularies."
   ]
  },
  {
   "cell_type": "markdown",
   "metadata": {},
   "source": [
    "| element name | creator |\n",
    "| --- | --- |\n",
    "| Label | Creator |\n",
    "| Mapping | dcterms:creator |\n",
    "| Description | This is a name or list of names extracted from the LOC's original metadata, which indicates an entity primarily responsible for making the resource. |\n",
    "| Required? | No |\n",
    "| Repeatable? | Yes |\n",
    "| Entry Rules | Translate directly from original LOC metadata. |\n",
    "| Data Type | string literal or list of string literals |\n",
    "| Example Entry | Federal Theatre Project (U.S.) |\n",
    "| Source (LOC) Attribute Name | Names |\n",
    "| DC Mapping | dcterms:contributors |"
   ]
  },
  {
   "cell_type": "markdown",
   "metadata": {},
   "source": [
    "| element name | date |\n",
    "| --- | --- |\n",
    "| Label | Date Created |\n",
    "| Mapping | dcterms:date |\n",
    "| Description | This is a date extracted from the LOC's original metadata, which indicates when the original resource was scanned or digitized. |\n",
    "| Required? | No |\n",
    "| Repeatable? | Yes |\n",
    "| Entry Rules | Use ISO-8601 Date formatting * format should be YYYY, YYYY-MM, or YYYY-MM-DD|\n",
    "| Data Type | literal (a plain string value with ISO-8601 formatting) or a list of string literals |\n",
    "| Example Entry | 1934 |\n",
    "| Source (LOC) Attribute Name | date |\n",
    "| DC Mapping | dcterms:date |"
   ]
  },
  {
   "cell_type": "markdown",
   "metadata": {},
   "source": [
    "| element name | format |\n",
    "| --- | --- |\n",
    "| Label | Format |\n",
    "| Mapping | dcterms:format |\n",
    "| Description | This is extracted from the LOC's original metadata, which indicates the file format, physical medium, or dimensions of the resource. |\n",
    "| Required? | No |\n",
    "| Repeatable? | No |\n",
    "| Entry Rules | Translate directly from original LOC metadata. |\n",
    "| Data Type | string literal |\n",
    "| Example Entry | text |\n",
    "| Source (LOC) Attribute Name | Format |\n",
    "| DC Mapping | dcterms:format |"
   ]
  },
  {
   "cell_type": "markdown",
   "metadata": {},
   "source": [
    "| element name | language |\n",
    "| --- | --- |\n",
    "| Label | Language |\n",
    "| Mapping | dcterms:language |\n",
    "| Description | This is extracted from the LOC's original metadata, which indicates the language of the resource. |\n",
    "| Required? | No |\n",
    "| Repeatable? | Yes |\n",
    "| Entry Rules | Use ISO-6391 Language formatting. |\n",
    "| Data Type | string literal or list of string literals |\n",
    "| Example Entry | en |\n",
    "| Source (LOC) Attribute Name | Language |\n",
    "| DC Mapping | dcterms:language |"
   ]
  },
  {
   "cell_type": "markdown",
   "metadata": {},
   "source": [
    "| element name | medium |\n",
    "| --- | --- |\n",
    "| Label | Medium |\n",
    "| Mapping | dcterms:medium |\n",
    "| Description | This is extracted from the LOC's original metadata, which indicates the material or physical carrier of the resource. |\n",
    "| Required? | No |\n",
    "| Repeatable? | Yes |\n",
    "| Entry Rules | Translate directly from original LOC metadata. |\n",
    "| Data Type | string literal or list of string literals |\n",
    "| Example Entry | 1 poster |\n",
    "| Source (LOC) Attribute Name | Medium |\n",
    "| DC Mapping | dcterms:medium |"
   ]
  },
  {
   "cell_type": "markdown",
   "metadata": {},
   "source": [
    "| element name | notes |\n",
    "| --- | --- |\n",
    "| Label | Notes |\n",
    "| Mapping | mods:note |\n",
    "| Description | This is extracted from the LOC's original metadata, which indicates contextual information about the resource. |\n",
    "| Required? | No |\n",
    "| Repeatable? | Yes |\n",
    "| Entry Rules | Translate directly from original LOC metadata. |\n",
    "| Data Type | string literal or list of string literals |\n",
    "| Example Entry | ['From Federal Theatre Project Collection (Production Records, 1934-1943/Posters File). Collection of approximately 1,000 posters of varying sizes of poster board done by the silk screen, offset lithography, and letterpress processes, as well as by hand. Produced by the Federal Art Project poster division and by artists employed directly by the FTP, the posters advertise over 500 productions in 91 cities in 24 states and the District of Columbia.', 'Text on Poster: Federal Theatre \"Dragon\\'s Wishbone\" Childrens\\' Play by Joan & Michael Slane Children 10c Adults 20c Federal Theatre Rainier & Atlantic Sat. Matinee 2.00 P.M. May 13-20-27'] |\n",
    "| Source (LOC) Attribute Name | Notes |\n",
    "| MODS  Mapping | dcterms:note |"
   ]
  },
  {
   "cell_type": "markdown",
   "metadata": {},
   "source": [
    "| element name | rights |\n",
    "| --- | --- |\n",
    "| Label | Rights |\n",
    "| Mapping | dcterms:rights |\n",
    "| Description | This is extracted from the LOC's original metadata, which indicates information about rights held in and over the resource. |\n",
    "| Required? | Yes |\n",
    "| Repeatable? | No |\n",
    "| Entry Rules | Translate directly from original LOC metadata. |\n",
    "| Data Type | string literal |\n",
    "| Example Entry | No known restrictions on use or reproduction. |\n",
    "| Source (LOC) Attribute Name | Rights |\n",
    "| DC Mapping | dcterms:rights |"
   ]
  },
  {
   "cell_type": "markdown",
   "metadata": {},
   "source": [
    "| element name | source |\n",
    "| --- | --- |\n",
    "| Label | Source |\n",
    "| Mapping | dcterms:source |\n",
    "| Description | This is a URI extracted from the LOC's original metadata, which indicates where the resource is from. |\n",
    "| Required? | Yes |\n",
    "| Repeatable? | No |\n",
    "| Entry Rules | Translate directly from original LOC metadata. |\n",
    "| Data Type | URI |\n",
    "| Example Entry | https://hdl.loc.gov/loc.music/musihas.200215965 |\n",
    "| Source (LOC) Attribute Name | Digital Id |\n",
    "| DC Mapping | dcterms:source |"
   ]
  },
  {
   "cell_type": "markdown",
   "metadata": {},
   "source": [
    "| element name | subject |\n",
    "| --- | --- |\n",
    "| Label | Subject |\n",
    "| Mapping | dcterms:subject |\n",
    "| Description | This is extracted from the LOC's original metadata, which indicates the topic of the resource. |\n",
    "| Required? | No |\n",
    "| Repeatable? | Yes |\n",
    "| Entry Rules | Translate directly from original LOC metadata. |\n",
    "| Data Type | string literal or list of string literals |\n",
    "| Example Entry | ['Theater--United States.', 'Posters'] |\n",
    "| Source (LOC) Attribute Name | Subjects |\n",
    "| DC Mapping | dcterms:subject |"
   ]
  },
  {
   "cell_type": "markdown",
   "metadata": {},
   "source": [
    "| Element Name | title |\n",
    "| --- | --- |\n",
    "| Label | Title |\n",
    "| Mapping | dcterms:title |\n",
    "| Description | This is a title extracted from the LOC's original metadata, which indicates the name that the resource is referred to by. |\n",
    "| Required? | Yes |\n",
    "| Repeatable? | No |\n",
    "| Entry Rules | Translate directly from original LOC metadata. |\n",
    "| Data Type | string literal |\n",
    "| Example Entry | Dragon's Wishbone |\n",
    "| Source (LOC) Attribute Name | title |\n",
    "| DC Mapping | dcterms:title |"
   ]
  },
  {
   "cell_type": "markdown",
   "metadata": {},
   "source": [
    "| element name | type |\n",
    "| --- | --- |\n",
    "| Label | Type |\n",
    "| Mapping | dcterms:genre |\n",
    "| Description | This is extracted from the LOC's original metadata, which indicates the nature or genre of the resource. |\n",
    "| Required? | No |\n",
    "| Repeatable? | Yes |\n",
    "| Entry Rules | Translate directly from original LOC metadata. |\n",
    "| Data Type | string literal or list of string literals |\n",
    "| Example Entry | ['Posters'] |\n",
    "| Source (LOC) Attribute Name | Genre |\n",
    "| DC Mapping | dcterms:genre |"
   ]
  }
 ],
 "metadata": {
  "language_info": {
   "name": "python"
  }
 },
 "nbformat": 4,
 "nbformat_minor": 2
}
