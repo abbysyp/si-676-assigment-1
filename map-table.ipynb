{
 "cells": [
  {
   "cell_type": "markdown",
   "metadata": {},
   "source": [
    "## MAP Table"
   ]
  },
  {
   "cell_type": "markdown",
   "metadata": {},
   "source": [
    "This is a table documenting the crosswalking decisions made when extracting resources from the LOC Free to Use Japanese Prints and New York Public Library Pacific Pursuits Postcards collections for ingest into an Omeka S site using MODS and Dublin Core vocabularies."
   ]
  },
  {
   "cell_type": "markdown",
   "metadata": {},
   "source": [
    "| element name | alternativeTitle |\n",
    "| --- | --- |\n",
    "| Label | Alternative Title |\n",
    "| Mapping | dcterms:alternative |\n",
    "| Description | This is a name or list of names extracted from the original metadata, which indicates an alternative name for the resource. |\n",
    "| Required? | No |\n",
    "| Repeatable? | Yes |\n",
    "| Entry Rules | Translate directly from original metadata. |\n",
    "| Data Type | string literal or list of string literals |\n",
    "| Example Entry | ['Catching crickets.'] |\n",
    "| Source (LOC) Attribute Name | other_title |\n",
    "| Source (NYPL) Attribute Name | N/A |"
   ]
  },
  {
   "cell_type": "markdown",
   "metadata": {},
   "source": [
    "| element name | contributor |\n",
    "| --- | --- |\n",
    "| Label | Contributor |\n",
    "| Mapping | dcterms:contributors |\n",
    "| Description | This is a name or list of names extracted from the original metadata, which indicates an entity primarily responsible for making the resource. |\n",
    "| Required? | No |\n",
    "| Repeatable? | Yes |\n",
    "| Entry Rules | Translate directly from original metadata. |\n",
    "| Data Type | string literal or list of string literals |\n",
    "| Example Entry | ['Suzuki, Harunobu, 1725?-1770, artist.'] |\n",
    "| Source (LOC) Attribute Name | contributors |\n",
    "| Source (NYPL) Attribute Name | namePart |"
   ]
  },
  {
   "cell_type": "markdown",
   "metadata": {},
   "source": [
    "| element name | date |\n",
    "| --- | --- |\n",
    "| Label | Date |\n",
    "| Mapping | dcterms:date |\n",
    "| Description | This is a date extracted from the original metadata, which indicates when the original resource was created. |\n",
    "| Required? | No |\n",
    "| Repeatable? | Yes |\n",
    "| Entry Rules | Use ISO-8601 Date formatting * format should be YYYY, YYYY-MM, or YYYY-MM-DD|\n",
    "| Data Type | literal (a plain string value with ISO-8601 formatting) or a list of string literals |\n",
    "| Example Entry | ['1907', '1918'] |\n",
    "| Source (LOC) Attribute Name | date |\n",
    "| Source (NYPL) Attribute Name | dateIssued |"
   ]
  },
  {
   "cell_type": "markdown",
   "metadata": {},
   "source": [
    "| element name | format |\n",
    "| --- | --- |\n",
    "| Label | Format |\n",
    "| Mapping | dcterms:format |\n",
    "| Description | This is extracted from the original metadata, which indicates the file format, physical medium, or dimensions of the resource. |\n",
    "| Required? | No |\n",
    "| Repeatable? | Yes |\n",
    "| Entry Rules | Translate directly from original metadata. |\n",
    "| Data Type | string literal or list of string literals |\n",
    "| Example Entry | ['Collotypes', '14 x 9 cm.', 'Photomechanical prints'] |\n",
    "| Source (LOC) Attribute Name | medium |\n",
    "| Source (NYPL) Attribute Name | physcialDescription |"
   ]
  },
  {
   "cell_type": "markdown",
   "metadata": {},
   "source": [
    "| element name | genre |\n",
    "| --- | --- |\n",
    "| Label | Genre |\n",
    "| Mapping | mods:genre |\n",
    "| Description | This is extracted from the original metadata, which indicates the genre (or one of several genres) of the resource. |\n",
    "| Required? | No |\n",
    "| Repeatable? | Yes |\n",
    "| Entry Rules | Translate directly from original metadata. |\n",
    "| Data Type | string literal or list of string literals |\n",
    "| Example Entry | ['Ukiyo-e--Japanese--1760-1770', 'Woodcuts--Japanese--Color--1760-1770'] |\n",
    "| Source (LOC) Attribute Name | genre |\n",
    "| Source (NYPL) Attribute Name | genre |"
   ]
  },
  {
   "cell_type": "markdown",
   "metadata": {},
   "source": [
    "| element name | language |\n",
    "| --- | --- |\n",
    "| Label | Language |\n",
    "| Mapping | dcterms:language |\n",
    "| Description | This is extracted from the original metadata, which indicates the language of the resource. |\n",
    "| Required? | No |\n",
    "| Repeatable? | Yes |\n",
    "| Entry Rules | Use ISO-639-2 Language formatting. |\n",
    "| Data Type | string literal or list of string literals |\n",
    "| Example Entry | eng |\n",
    "| Source (LOC) Attribute Name | language |\n",
    "| Source (NYPL) Attribute Name | lang |"
   ]
  },
  {
   "cell_type": "markdown",
   "metadata": {},
   "source": [
    "| element name | placeOfOrigin |\n",
    "| --- | --- |\n",
    "| Label | Place |\n",
    "| Mapping | mods:placeOfOrigin |\n",
    "| Description | This is extracted from the original metadata, which indicates the place where the resource was originally created or published. |\n",
    "| Required? | No |\n",
    "| Repeatable? | Yes |\n",
    "| Entry Rules | Translate directly from original metadata. |\n",
    "| Data Type | string literal or list of string literals |\n",
    "| Example Entry | ['Japan'] |\n",
    "| Source (LOC) Attribute Name | location |\n",
    "| Source (NYPL) Attribute Name | placeOfOrigin |"
   ]
  },
  {
   "cell_type": "markdown",
   "metadata": {},
   "source": [
    "| element name | rights |\n",
    "| --- | --- |\n",
    "| Label | Rights |\n",
    "| Mapping | dcterms:rights |\n",
    "| Description | This is extracted from the original metadata, which indicates information about rights held in and over the resource. |\n",
    "| Required? | Yes |\n",
    "| Repeatable? | No |\n",
    "| Entry Rules | Translate directly from original metadata. |\n",
    "| Data Type | string literal |\n",
    "| Example Entry | No known restrictions on use or reproduction. |\n",
    "| Source (LOC) Attribute Name | rights_information |\n",
    "| Source (NYPL) Attribute Name | rightsStatement |"
   ]
  },
  {
   "cell_type": "markdown",
   "metadata": {},
   "source": [
    "| element name | source |\n",
    "| --- | --- |\n",
    "| Label | Source |\n",
    "| Mapping | dcterms:source |\n",
    "| Description | This is a URI extracted from the original metadata, which indicates where the resource is from. |\n",
    "| Required? | Yes |\n",
    "| Repeatable? | No |\n",
    "| Entry Rules | Create by appending NYPL item uuid OR LOC control number to base url of 'https://digitalcollections.nypl.org/items/' OR 'https://www.loc.gov/item/', respectively |\n",
    "| Data Type | URI |\n",
    "| Example Entry | https://digitalcollections.nypl.org/items/0a3cf940-c5d3-012f-013f-58d385a7bc34 |\n",
    "| Source (LOC) Attribute Name | control_number |\n",
    "| Source (NYPL) Attribute Name | uuid |"
   ]
  },
  {
   "cell_type": "markdown",
   "metadata": {},
   "source": [
    "| element name | subject |\n",
    "| --- | --- |\n",
    "| Label | Subject |\n",
    "| Mapping | mods:subject |\n",
    "| Description | This is extracted from the original metadata, which indicates the topic of the resource. |\n",
    "| Required? | No |\n",
    "| Repeatable? | Yes |\n",
    "| Entry Rules | Translate directly from original metadata. |\n",
    "| Data Type | string literal or list of string literals |\n",
    "| Example Entry | ['Sri Lankans', 'Sri Lanka', 'Buddhism', 'Buddhist temples', 'Religious articles'] |\n",
    "| Source (LOC) Attribute Name | subjects |\n",
    "| Source (NYPL) Attribute Name | subject |"
   ]
  },
  {
   "cell_type": "markdown",
   "metadata": {},
   "source": [
    "| Element Name | title |\n",
    "| --- | --- |\n",
    "| Label | Title |\n",
    "| Mapping | mods:title |\n",
    "| Description | This is a title extracted from the original metadata, which indicates the name that the resource is referred to by. |\n",
    "| Required? | Yes |\n",
    "| Repeatable? | No |\n",
    "| Entry Rules | Translate directly from original metadata. |\n",
    "| Data Type | string literal |\n",
    "| Example Entry | Semitori |\n",
    "| Source (LOC) Attribute Name | title |\n",
    "| Source (NYPL) Attribute Name | title |"
   ]
  },
  {
   "cell_type": "markdown",
   "metadata": {},
   "source": [
    "| element name | type |\n",
    "| --- | --- |\n",
    "| Label | Type |\n",
    "| Mapping | mods:type |\n",
    "| Description | This is extracted from the original metadata, which indicates the digital nature of the resource. |\n",
    "| Required? | No |\n",
    "| Repeatable? | Yes |\n",
    "| Entry Rules | Translate directly from original metadata. |\n",
    "| Data Type | string literal or list of string literals |\n",
    "| Example Entry | ['still image'] |\n",
    "| Source (LOC) Attribute Name | format |\n",
    "| Source (NYPL) Attribute Name | typeOfResource |"
   ]
  }
 ],
 "metadata": {
  "language_info": {
   "name": "python"
  }
 },
 "nbformat": 4,
 "nbformat_minor": 2
}
