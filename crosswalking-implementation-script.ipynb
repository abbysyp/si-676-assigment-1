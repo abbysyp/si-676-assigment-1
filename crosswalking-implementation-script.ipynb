{
 "cells": [
  {
   "cell_type": "markdown",
   "metadata": {},
   "source": [
    "## Crosswalking Implementation Script"
   ]
  },
  {
   "cell_type": "markdown",
   "metadata": {},
   "source": [
    "| source field name | source field path/dict name | target | target namespace | notes |\n",
    "| --- | --- | --- | --- | --- |\n",
    "| location | item['location'] | dc:location | DCTerms |  |"
   ]
  }
 ],
 "metadata": {
  "language_info": {
   "name": "python"
  }
 },
 "nbformat": 4,
 "nbformat_minor": 2
}
