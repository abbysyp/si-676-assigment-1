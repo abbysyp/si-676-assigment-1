{
 "cells": [
  {
   "cell_type": "markdown",
   "metadata": {},
   "source": [
    "# Extracting and Transforming Metadata"
   ]
  },
  {
   "cell_type": "code",
   "execution_count": 14,
   "metadata": {},
   "outputs": [],
   "source": [
    "import json"
   ]
  },
  {
   "cell_type": "code",
   "execution_count": 52,
   "metadata": {},
   "outputs": [
    {
     "name": "stdout",
     "output_type": "stream",
     "text": [
      "{\n",
      "  \"articles_and_essays\": null,\n",
      "  \"cite_this\": {\n",
      "    \"apa\": \"Federal Theatre Project, U. S. (1934) \n"
     ]
    }
   ],
   "source": [
    "# read in a sample file\n",
    "with open('C:\\\\Users\\\\abbys\\\\OneDrive\\\\Desktop\\\\use-git-abbysyp\\\\item-metadata\\\\musihas-200215965-0.json', 'r', encoding='utf-8') as file:\n",
    "    metadata = json.load(file)\n",
    "\n",
    "# check if it's there\n",
    "print(json.dumps(metadata, indent=2)[:100])"
   ]
  },
  {
   "cell_type": "code",
   "execution_count": 53,
   "metadata": {},
   "outputs": [
    {
     "name": "stdout",
     "output_type": "stream",
     "text": [
      "_version_ :\t 1798732638728486912\n",
      "access_restricted :\t False\n",
      "aka :\t ['https://hdl.loc.gov/loc.music/musihas.200215965', 'http://www.loc.gov/resource/music.musihas-200215965/', 'http://www.loc.gov/item/musihas.200215965/']\n",
      "call_number :\t ['series: Production Records, 1934-1943: Posters File, undated']\n",
      "campaigns :\t []\n",
      "contributor_names :\t ['Federal Theatre Project (U.S.)']\n",
      "contributors :\t [{'federal theatre project (u.s.)': 'https://www.loc.gov/search/?fa=contributor:federal+theatre+project+%28u.s.%29&fo=json'}]\n",
      "date :\t 1934\n",
      "dates :\t [{'1934 to 1943': 'https://www.loc.gov/search/?dates=1934/1943&fo=json'}]\n",
      "digital_id :\t ['https://hdl.loc.gov/loc.music/musihas.200215965']\n",
      "digitized :\t True\n",
      "display_offsite :\t True\n",
      "extract_timestamp :\t 2024-05-11T05:07:20.230Z\n",
      "extract_urls :\t ['https://repo.loc.gov/access/public/music/musihas-200215965/.resource.json#paprika-music']\n",
      "format :\t [{'book': 'https://www.loc.gov/search/?fa=original_format:book&fo=json'}]\n",
      "genre :\t ['Posters']\n",
      "group :\t ['paprika-music']\n",
      "hassegments :\t False\n",
      "id :\t http://www.loc.gov/item/musihas.200215965/\n",
      "image_url :\t ['https://tile.loc.gov/image-services/iiif/public:music:musihas-200215965:musihas-200215965.0001/full/pct:6.25/0/default.jpg', 'https://tile.loc.gov/image-services/iiif/public:music:musihas-200215965:musihas-200215965.0001/full/pct:6.25/0/default.jpg#h=579&w=369', 'https://tile.loc.gov/image-services/iiif/public:music:musihas-200215965:musihas-200215965.0001/full/pct:12.5/0/default.jpg#h=1159&w=739', 'https://tile.loc.gov/image-services/iiif/public:music:musihas-200215965:musihas-200215965.0001/full/pct:25.0/0/default.jpg#h=2318&w=1479', 'https://tile.loc.gov/image-services/iiif/public:music:musihas-200215965:musihas-200215965.0001/full/pct:50.0/0/default.jpg#h=4636&w=2958', 'https://tile.loc.gov/image-services/iiif/public:music:musihas-200215965:musihas-200215965.0001/full/pct:100.0/0/default.jpg#h=9273&w=5916']\n",
      "index :\t 1\n",
      "item :\t {'call_number': ['series: Production Records, 1934-1943: Posters File, undated'], 'contributors': ['Federal Theatre Project (U.S.)'], 'date': '1934/1943', 'digital_id': ['https://hdl.loc.gov/loc.music/musihas.200215965'], 'format': 'text', 'genre': ['Posters'], 'language': ['eng'], 'medium': ['1 poster: 14x22in'], 'notes': ['From Federal Theatre Project Collection (Production Records, 1934-1943/Posters File). Collection of approximately 1,000 posters of varying sizes of poster board done by the silk screen, offset lithography, and letterpress processes, as well as by hand. Produced by the Federal Art Project poster division and by artists employed directly by the FTP, the posters advertise over 500 productions in 91 cities in 24 states and the District of Columbia.', 'Text on Poster: Federal Theatre \"Dragon\\'s Wishbone\" Childrens\\' Play by Joan & Michael Slane Children 10c Adults 20c Federal Theatre Rainier & Atlantic Sat. Matinee 2.00 P.M. May 13-20-27'], 'related_items': [{'title': 'View Federal Theatre Project Collection Finding Aid', 'url': 'https://hdl.loc.gov/loc.music/eadmus.mu995001'}], 'repository': 'music division', 'rights': 'No known restrictions on use or reproduction.', 'source_collection': 'Federal Theatre Project, 1935 to 1939', 'subjects': ['Theater--United States.', 'Posters'], 'title': \"Dragon's Wishbone\"}\n",
      "language :\t ['english']\n",
      "languages :\t [{'english': 'https://www.loc.gov/search/?fa=language:english&fo=json'}]\n",
      "medium :\t ['1 poster: 14x22in']\n",
      "mime_type :\t ['image/jpeg', 'image/jp2']\n",
      "notes :\t ['From Federal Theatre Project Collection (Production Records, 1934-1943/Posters File). Collection of approximately 1,000 posters of varying sizes of poster board done by the silk screen, offset lithography, and letterpress processes, as well as by hand. Produced by the Federal Art Project poster division and by artists employed directly by the FTP, the posters advertise over 500 productions in 91 cities in 24 states and the District of Columbia.', 'Text on Poster: Federal Theatre \"Dragon\\'s Wishbone\" Childrens\\' Play by Joan & Michael Slane Children 10c Adults 20c Federal Theatre Rainier & Atlantic Sat. Matinee 2.00 P.M. May 13-20-27']\n",
      "number :\t ['http://www.loc.gov/resource/ihas.200215965.0', 'http://www.loc.gov/resource/musihas.200215965.0']\n",
      "number_former_id :\t ['http://www.loc.gov/resource/musihas.200215965.0', 'http://www.loc.gov/resource/ihas.200215965.0']\n",
      "online_format :\t ['image']\n",
      "original_format :\t ['book']\n",
      "other_formats :\t []\n",
      "partof :\t [{'count': 1360, 'title': 'federal theatre project, 1935 to 1939: production records, 1934-1943: posters file, undated', 'url': 'https://www.loc.gov/search/?fa=partof:federal+theatre+project,+1935+to+1939:+production+records,+1934-1943:+posters+file,+undated&fo=json'}, {'count': 9217, 'title': 'federal theatre project, 1935 to 1939', 'url': 'https://www.loc.gov/collections/federal-theatre-project-1935-to-1939/?fo=json'}, {'count': 152980, 'title': 'music division', 'url': 'https://www.loc.gov/search/?fa=partof:music+division&fo=json'}]\n",
      "related_items :\t [{'title': 'View Federal Theatre Project Collection Finding Aid', 'url': 'https://hdl.loc.gov/loc.music/eadmus.mu995001'}]\n",
      "repository :\t ['music division']\n",
      "resources :\t [{'files': 1, 'image': 'https://tile.loc.gov/image-services/iiif/public:music:musihas-200215965:musihas-200215965.0001/full/pct:6.25/0/default.jpg', 'paprika_resource_path': '/sets/music/musihas-200215965', 'url': 'https://www.loc.gov/resource/music.musihas-200215965/'}]\n",
      "rights :\t ['<h2>Restriction and Notice Statement</h2>\\r\\n<p>The Library of Congress is not aware of any copyright in the materials in the Federal Theatre Project collection. Generally speaking, works created by U.S. Government employees, including for the Federal Theatre Project, are not eligible for copyright protection in the United States. The Library of Congress has no objection to their international use. Accordingly, such works are free to use and reuse.</p>\\r\\n<p>However, the Library of Congress has not specifically analyzed whether every item in the Federal Theatre Project Collection is a U.S. government work. Rights assessment is your responsibility. </p>\\r\\n<p>Privacy and publicity rights may apply. In particular, the Library of Congress is grateful to the family of Orson Welles for their cooperation in the presentation of materials in this collection. For permission to use images of Orson Welles in any commercial manner, please contact:</p>\\r\\n<p> Beatrice Welles <br>\\r\\n  c/o Thomas A. White <br>\\r\\n  8671 Wilshire Boulevard, Suite 718 <br>\\r\\n  Beverly Hills, CA 90211-2915 <br>\\r\\n  ph. 310-657-9831 <br>\\r\\n  fax. 310-657-6455</p>\\r\\n<p>Credit Line: Library of Congress, Music Division, Federal Theatre Project Collection.</p>\\r\\n<p>More about <a href=\"/legal/\">Copyright and other Restrictions</a></p>\\r\\n<p>For guidance about compiling full citations consult <a href=\"//www.loc.gov/teachers/usingprimarysources/citing.html\">Citing Primary Sources</a>.</p>\\r\\n']\n",
      "score :\t 15.7984085\n",
      "shard :\t 08\n",
      "shelf_id :\t series: Production Records, 1934-1943: Posters File, undated\n",
      "source_collection :\t Federal Theatre Project, 1935 to 1939\n",
      "source_modified :\t 2000-01-01T12:00:00Z\n",
      "subject :\t ['theater', 'posters', 'united states']\n",
      "subject_headings :\t ['Theater--United States', 'Posters']\n",
      "subjects :\t [{'posters': 'https://www.loc.gov/search/?fa=subject:posters&fo=json'}, {'theater': 'https://www.loc.gov/search/?fa=subject:theater&fo=json'}, {'united states': 'https://www.loc.gov/search/?fa=subject:united+states&fo=json'}]\n",
      "timestamp :\t 2024-05-11T05:25:19.572Z\n",
      "title :\t Dragon's Wishbone\n",
      "type :\t ['book']\n",
      "url :\t https://www.loc.gov/item/musihas.200215965/\n"
     ]
    }
   ],
   "source": [
    "# now take a look at the \"item\" key\n",
    "\n",
    "for attribute in metadata['item'].items():\n",
    "    print(attribute[0], ':\\t', attribute[1])"
   ]
  },
  {
   "cell_type": "code",
   "execution_count": 54,
   "metadata": {},
   "outputs": [],
   "source": [
    "# for reusability, you may want to write this to a file\n",
    "\n",
    "metadata_fields_file = 'C:\\\\Users\\\\abbys\\\\OneDrive\\\\Desktop\\\\use-git-abbysyp\\\\metadata-fields.txt'\n",
    "\n",
    "with open(metadata_fields_file, 'w') as f:\n",
    "    f.write('attribute\\tvalue\\n')\n",
    "    for attribute in metadata['item'].items():\n",
    "        f.write(str(attribute[0]) + '\\t' + str(attribute[1]) + '\\n')"
   ]
  },
  {
   "cell_type": "markdown",
   "metadata": {},
   "source": [
    "## Choosing attributes for MAP"
   ]
  },
  {
   "cell_type": "code",
   "execution_count": 62,
   "metadata": {},
   "outputs": [
    {
     "name": "stdout",
     "output_type": "stream",
     "text": [
      "call_number\n",
      "contributors\n",
      "date\n",
      "digital_id\n",
      "format\n",
      "genre\n",
      "language\n",
      "medium\n",
      "notes\n",
      "related_items\n",
      "repository\n",
      "rights\n",
      "source_collection\n",
      "subjects\n",
      "title\n"
     ]
    }
   ],
   "source": [
    "# look at location attributes\n",
    "for attribute in metadata['item']['item']:\n",
    "    print(attribute)\n",
    "    if 'location' in str(attribute[0]):\n",
    "        print(attribute)"
   ]
  },
  {
   "cell_type": "code",
   "execution_count": 72,
   "metadata": {},
   "outputs": [
    {
     "name": "stdout",
     "output_type": "stream",
     "text": [
      "call_number : ['series: Production Records, 1934-1943: Posters File, undated']\n",
      "contributors : ['Federal Theatre Project (U.S.)']\n",
      "date : 1934/1943\n",
      "digital_id : ['https://hdl.loc.gov/loc.music/musihas.200215965']\n",
      "format : text\n",
      "genre : ['Posters']\n",
      "language : ['eng']\n",
      "medium : ['1 poster: 14x22in']\n",
      "notes : ['From Federal Theatre Project Collection (Production Records, 1934-1943/Posters File). Collection of approximately 1,000 posters of varying sizes of poster board done by the silk screen, offset lithography, and letterpress processes, as well as by hand. Produced by the Federal Art Project poster division and by artists employed directly by the FTP, the posters advertise over 500 productions in 91 cities in 24 states and the District of Columbia.', 'Text on Poster: Federal Theatre \"Dragon\\'s Wishbone\" Childrens\\' Play by Joan & Michael Slane Children 10c Adults 20c Federal Theatre Rainier & Atlantic Sat. Matinee 2.00 P.M. May 13-20-27']\n",
      "related_items : [{'title': 'View Federal Theatre Project Collection Finding Aid', 'url': 'https://hdl.loc.gov/loc.music/eadmus.mu995001'}]\n",
      "repository : music division\n",
      "rights : No known restrictions on use or reproduction.\n",
      "source_collection : Federal Theatre Project, 1935 to 1939\n",
      "subjects : ['Theater--United States.', 'Posters']\n",
      "title : Dragon's Wishbone\n"
     ]
    }
   ],
   "source": [
    "# look at attributes and their values to determine crosswalking needs\n",
    "for attribute in metadata['item']['item']:\n",
    "    print(attribute, \":\", metadata['item']['item'][attribute])"
   ]
  },
  {
   "cell_type": "code",
   "execution_count": null,
   "metadata": {},
   "outputs": [
    {
     "name": "stdout",
     "output_type": "stream",
     "text": [
      "date 1934/1943\n",
      "contributor ['Federal Theatre Project (U.S.)']\n",
      "source ['https://hdl.loc.gov/loc.music/musihas.200215965']\n",
      "format text\n",
      "rights No known restrictions on use or reproduction.\n",
      "title Dragon's Wishbone\n",
      "language ['eng']\n",
      "medium ['1 poster: 14x22in']\n",
      "subject ['Theater--United States.', 'Posters']\n",
      "type ['Posters']\n",
      "notes ['From Federal Theatre Project Collection (Production Records, 1934-1943/Posters File). Collection of approximately 1,000 posters of varying sizes of poster board done by the silk screen, offset lithography, and letterpress processes, as well as by hand. Produced by the Federal Art Project poster division and by artists employed directly by the FTP, the posters advertise over 500 productions in 91 cities in 24 states and the District of Columbia.', 'Text on Poster: Federal Theatre \"Dragon\\'s Wishbone\" Childrens\\' Play by Joan & Michael Slane Children 10c Adults 20c Federal Theatre Rainier & Atlantic Sat. Matinee 2.00 P.M. May 13-20-27']\n"
     ]
    }
   ],
   "source": [
    "# build data structure\n",
    "item_data = {\n",
    "    # dublin core\n",
    "    'date': metadata['item']['item']['date'],\n",
    "    'creator': metadata['item']['item']['contributors'],\n",
    "    'source': metadata['item']['item']['digital_id'],\n",
    "    'format': metadata['item']['item']['format'],\n",
    "    'rights': metadata['item']['item']['rights'],\n",
    "    'title': metadata['item']['title'],\n",
    "    'language': metadata['item']['item']['language'],\n",
    "    'medium': metadata['item']['item']['medium'],\n",
    "    'subject': metadata['item']['item']['subjects'],\n",
    "    'type': metadata['item']['item']['genre'],\n",
    "\n",
    "    # mods\n",
    "    'notes': metadata['item']['item']['notes']\n",
    "}\n",
    "\n",
    "for item in item_data:\n",
    "    print(item, item_data[item])"
   ]
  }
 ],
 "metadata": {
  "kernelspec": {
   "display_name": "Python 3",
   "language": "python",
   "name": "python3"
  },
  "language_info": {
   "codemirror_mode": {
    "name": "ipython",
    "version": 3
   },
   "file_extension": ".py",
   "mimetype": "text/x-python",
   "name": "python",
   "nbconvert_exporter": "python",
   "pygments_lexer": "ipython3",
   "version": "3.12.3"
  }
 },
 "nbformat": 4,
 "nbformat_minor": 2
}
