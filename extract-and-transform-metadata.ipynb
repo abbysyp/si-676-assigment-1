{
 "cells": [
  {
   "cell_type": "markdown",
   "metadata": {},
   "source": [
    "# Extracting and Transforming Metadata"
   ]
  },
  {
   "cell_type": "code",
   "execution_count": null,
   "metadata": {},
   "outputs": [],
   "source": [
    "import json"
   ]
  },
  {
   "cell_type": "code",
   "execution_count": 4,
   "metadata": {},
   "outputs": [
    {
     "name": "stdout",
     "output_type": "stream",
     "text": [
      "{\n",
      "  \"nyplAPI\": {\n",
      "    \"request\": {\n",
      "      \"uuid\": {\n",
      "        \"$\": \"0a3cf940-c5d3-012f-013f-58d385a7bc34\n"
     ]
    }
   ],
   "source": [
    "# read in a sample file\n",
    "with open('C:\\\\Users\\\\abbys\\\\OneDrive\\\\Desktop\\\\si-676\\\\assignment-1\\\\nypl-item-metadata\\\\0a3cf940-c5d3-012f-013f-58d385a7bc34.json', 'r', encoding='utf-8') as file:\n",
    "    metadata = json.load(file)\n",
    "\n",
    "# check if it's there\n",
    "print(json.dumps(metadata, indent=2)[:100])"
   ]
  },
  {
   "cell_type": "code",
   "execution_count": 6,
   "metadata": {},
   "outputs": [
    {
     "name": "stdout",
     "output_type": "stream",
     "text": [
      "version :\t 3.4\n",
      "schemaLocation :\t http://www.loc.gov/mods/v3 http://www.loc.gov/standards/mods/v3/mods-3-4.xsd\n",
      "titleInfo :\t {'type': '', 'authority': '', 'usage': 'primary', 'lang': 'eng', 'script': '', 'title': {'$': 'Buddhist priests at their shrine.'}}\n",
      "typeOfResource :\t {'$': 'still image'}\n",
      "genre :\t {'authority': 'lctgm', 'valueURI': 'http://id.loc.gov/vocabulary/graphicMaterials/tgm008103', '$': 'Postcards'}\n",
      "originInfo :\t {'dateIssued': [{'encoding': 'w3cdtf', 'point': 'start', 'keyDate': 'yes', '$': '1907'}, {'encoding': 'w3cdtf', 'qualifier': 'approximate', 'point': 'end', '$': '1918'}], 'place': {'placeTerm': {'type': 'text', '$': 'Ceylon; printed in Germany'}}}\n",
      "subject :\t [{'topic': {'authority': 'lcsh', 'valueURI': 'http://id.loc.gov/authorities/subjects/sh87004041', '$': 'Sri Lankans'}}, {'geographic': {'authority': 'naf', 'valueURI': 'http://id.loc.gov/authorities/names/n80061039', '$': 'Sri Lanka'}}, {'topic': {'authority': 'lctgm', 'valueURI': 'http://id.loc.gov/vocabulary/graphicMaterials/tgm001377', '$': 'Buddhism'}}, {'topic': {'authority': 'lctgm', 'valueURI': 'http://id.loc.gov/vocabulary/graphicMaterials/tgm001381', '$': 'Buddhist temples'}}, {'topic': {'authority': 'lctgm', 'valueURI': 'http://id.loc.gov/vocabulary/graphicMaterials/tgm008771', '$': 'Religious articles'}}]\n",
      "identifier :\t [{'type': 'local_hades', 'displayLabel': 'Hades struc ID (legacy)', '$': '2359870'}, {'type': 'uuid', '$': '0a3cf940-c5d3-012f-013f-58d385a7bc34'}]\n",
      "location :\t [{'physicalLocation': [{'authority': 'marcorg', 'type': 'repository', '$': 'nn'}, {'type': 'division', '$': 'The Miriam and Ira D. Wallach Division of Art, Prints and Photographs: Picture Collection'}, {'type': 'division_short_name', '$': 'Wallach Division: Picture Collection'}, {'type': 'code', '$': 'MMPC'}]}, {'physicalLocation': {'authority': 'marcorg', 'type': 'repository', '$': 'nn'}, 'shelfLocator': {'$': 'PC POC SRI -- Lif'}}]\n",
      "name :\t {'type': 'corporate', 'authority': 'naf', 'valueURI': 'http://id.loc.gov/authorities/names/nb2008016132', 'usage': 'primary', 'namePart': {'$': 'A.W.A. Plâté & Co.'}, 'role': {'roleTerm': [{'valueURI': 'http://id.loc.gov/vocabulary/relators/pbl', 'authority': 'marcrelator', 'type': 'code', '$': 'pbl'}, {'valueURI': 'http://id.loc.gov/vocabulary/relators/pbl', 'authority': 'marcrelator', 'type': 'text', '$': 'Publisher'}]}}\n",
      "physicalDescription :\t [{'form': {'authority': 'lctgm', 'valueURI': 'http://id.loc.gov/vocabulary/graphicMaterials/tgm002301', '$': 'Collotypes'}, 'extent': {'$': '14 x 9 cm.'}}, {'form': {'authority': 'lctgm', 'valueURI': 'http://id.loc.gov/vocabulary/graphicMaterials/tgm007730', '$': 'Photomechanical prints'}}]\n",
      "relatedItem :\t {'type': 'host', 'titleInfo': {'title': {'$': 'Sri Lanka -- Life'}}, 'identifier': [{'type': 'uuid', '$': '06721550-c5d3-012f-11f7-58d385a7bc34'}, {'type': 'local_hades', '$': '2359154'}], 'relatedItem': {'type': 'host', 'titleInfo': {'title': {'$': 'Pacific pursuits : Postcards'}}, 'identifier': [{'type': 'uuid', '$': '07430830-c5d1-012f-bd22-58d385a7bc34'}, {'type': 'local_hades', '$': '2359114'}]}}\n"
     ]
    }
   ],
   "source": [
    "# now take a look at the \"item\" key\n",
    "\n",
    "for attribute in metadata['nyplAPI']['response']['mods'].items():\n",
    "    print(attribute[0], ':\\t', attribute[1])"
   ]
  },
  {
   "cell_type": "code",
   "execution_count": 81,
   "metadata": {},
   "outputs": [],
   "source": [
    "# for reusability, you may want to write this to a file\n",
    "\n",
    "metadata_fields_file = 'C:\\\\Users\\\\abbys\\\\OneDrive\\\\Desktop\\\\si-676\\\\assignment-1\\\\nypl-metadata-fields.txt'\n",
    "\n",
    "with open(metadata_fields_file, 'w') as f:\n",
    "    f.write('attribute\\tvalue\\n')\n",
    "    for attribute in metadata['nyplAPI']['response']['mods'].items():\n",
    "        f.write(str(attribute[0]) + '\\t' + str(attribute[1]) + '\\n')"
   ]
  },
  {
   "cell_type": "markdown",
   "metadata": {},
   "source": [
    "## Choosing attributes for MAP"
   ]
  },
  {
   "cell_type": "code",
   "execution_count": 9,
   "metadata": {},
   "outputs": [
    {
     "name": "stdout",
     "output_type": "stream",
     "text": [
      "version : 3.4\n",
      "schemaLocation : http://www.loc.gov/mods/v3 http://www.loc.gov/standards/mods/v3/mods-3-4.xsd\n",
      "titleInfo : {'type': '', 'authority': '', 'usage': 'primary', 'lang': 'eng', 'script': '', 'title': {'$': 'Buddhist priests at their shrine.'}}\n",
      "typeOfResource : {'$': 'still image'}\n",
      "genre : {'authority': 'lctgm', 'valueURI': 'http://id.loc.gov/vocabulary/graphicMaterials/tgm008103', '$': 'Postcards'}\n",
      "originInfo : {'dateIssued': [{'encoding': 'w3cdtf', 'point': 'start', 'keyDate': 'yes', '$': '1907'}, {'encoding': 'w3cdtf', 'qualifier': 'approximate', 'point': 'end', '$': '1918'}], 'place': {'placeTerm': {'type': 'text', '$': 'Ceylon; printed in Germany'}}}\n",
      "subject : [{'topic': {'authority': 'lcsh', 'valueURI': 'http://id.loc.gov/authorities/subjects/sh87004041', '$': 'Sri Lankans'}}, {'geographic': {'authority': 'naf', 'valueURI': 'http://id.loc.gov/authorities/names/n80061039', '$': 'Sri Lanka'}}, {'topic': {'authority': 'lctgm', 'valueURI': 'http://id.loc.gov/vocabulary/graphicMaterials/tgm001377', '$': 'Buddhism'}}, {'topic': {'authority': 'lctgm', 'valueURI': 'http://id.loc.gov/vocabulary/graphicMaterials/tgm001381', '$': 'Buddhist temples'}}, {'topic': {'authority': 'lctgm', 'valueURI': 'http://id.loc.gov/vocabulary/graphicMaterials/tgm008771', '$': 'Religious articles'}}]\n",
      "identifier : [{'type': 'local_hades', 'displayLabel': 'Hades struc ID (legacy)', '$': '2359870'}, {'type': 'uuid', '$': '0a3cf940-c5d3-012f-013f-58d385a7bc34'}]\n",
      "location : [{'physicalLocation': [{'authority': 'marcorg', 'type': 'repository', '$': 'nn'}, {'type': 'division', '$': 'The Miriam and Ira D. Wallach Division of Art, Prints and Photographs: Picture Collection'}, {'type': 'division_short_name', '$': 'Wallach Division: Picture Collection'}, {'type': 'code', '$': 'MMPC'}]}, {'physicalLocation': {'authority': 'marcorg', 'type': 'repository', '$': 'nn'}, 'shelfLocator': {'$': 'PC POC SRI -- Lif'}}]\n",
      "name : {'type': 'corporate', 'authority': 'naf', 'valueURI': 'http://id.loc.gov/authorities/names/nb2008016132', 'usage': 'primary', 'namePart': {'$': 'A.W.A. Plâté & Co.'}, 'role': {'roleTerm': [{'valueURI': 'http://id.loc.gov/vocabulary/relators/pbl', 'authority': 'marcrelator', 'type': 'code', '$': 'pbl'}, {'valueURI': 'http://id.loc.gov/vocabulary/relators/pbl', 'authority': 'marcrelator', 'type': 'text', '$': 'Publisher'}]}}\n",
      "physicalDescription : [{'form': {'authority': 'lctgm', 'valueURI': 'http://id.loc.gov/vocabulary/graphicMaterials/tgm002301', '$': 'Collotypes'}, 'extent': {'$': '14 x 9 cm.'}}, {'form': {'authority': 'lctgm', 'valueURI': 'http://id.loc.gov/vocabulary/graphicMaterials/tgm007730', '$': 'Photomechanical prints'}}]\n",
      "relatedItem : {'type': 'host', 'titleInfo': {'title': {'$': 'Sri Lanka -- Life'}}, 'identifier': [{'type': 'uuid', '$': '06721550-c5d3-012f-11f7-58d385a7bc34'}, {'type': 'local_hades', '$': '2359154'}], 'relatedItem': {'type': 'host', 'titleInfo': {'title': {'$': 'Pacific pursuits : Postcards'}}, 'identifier': [{'type': 'uuid', '$': '07430830-c5d1-012f-bd22-58d385a7bc34'}, {'type': 'local_hades', '$': '2359114'}]}}\n"
     ]
    }
   ],
   "source": [
    "# look at attributes and their values to determine crosswalking needs\n",
    "for attribute in metadata['nyplAPI']['response']['mods']:\n",
    "    print(attribute, \":\", metadata['nyplAPI']['response']['mods'][attribute])"
   ]
  },
  {
   "cell_type": "code",
   "execution_count": 73,
   "metadata": {},
   "outputs": [
    {
     "name": "stdout",
     "output_type": "stream",
     "text": [
      "title : Buddhist priests at their shrine.\n",
      "genre : Postcards\n",
      "placeOfOrigin : Ceylon; printed in Germany\n",
      "subject : ['Sri Lankans', 'Sri Lanka', 'Buddhism', 'Buddhist temples', 'Religious articles']\n",
      "format : ['Collotypes', '14 x 9 cm.', 'Photomechanical prints']\n",
      "language : eng\n",
      "date : ['1907', '1918']\n",
      "type : still image\n",
      "contributor : A.W.A. Plâté & Co.\n",
      "rights : The New York Public Library believes that this item is in the public domain under the laws of the United States, but did not make a determination as to its copyright status under the copyright laws of other countries. This item may not be in the public domain under the laws of other countries. Though not required, if you want to credit us as the source, please use the following statement, \"From The New York Public Library,\" and provide a link back to the item on our Digital Collections site. Doing so helps us track how our collection is used and helps justify freely releasing even more content in the future.\n",
      "source : https://digitalcollections.nypl.org/items/0a3cf940-c5d3-012f-013f-58d385a7bc34\n"
     ]
    }
   ],
   "source": [
    "# build nypl data structure\n",
    "starting_point = metadata['nyplAPI']['response']['mods']\n",
    "\n",
    "# get all dates\n",
    "dates = []\n",
    "for date in starting_point['originInfo']['dateIssued']:\n",
    "    dates.append(date['$'])\n",
    "\n",
    "# get all topics\n",
    "topic_dict = dict(enumerate(starting_point['subject']))\n",
    "topics = []\n",
    "n = 0\n",
    "for key in topic_dict:\n",
    "    for other_key in topic_dict[key]:\n",
    "        topics.append(topic_dict[key][other_key]['$'])\n",
    "\n",
    "# get all physical descriptions\n",
    "phys_desc_dict = dict(enumerate(starting_point['physicalDescription']))\n",
    "phys_descriptions = []\n",
    "n = 0\n",
    "for key in phys_desc_dict:\n",
    "    for other_key in phys_desc_dict[key]:\n",
    "        phys_descriptions.append(phys_desc_dict[key][other_key]['$'])\n",
    "\n",
    "source_base_url = 'https://digitalcollections.nypl.org/items/'\n",
    "\n",
    "nypl_item_data = {\n",
    "    # mods\n",
    "    'title': starting_point['titleInfo']['title']['$'],\n",
    "    'genre': starting_point['genre']['$'],\n",
    "    'placeOfOrigin': starting_point['originInfo']['place']['placeTerm']['$'],\n",
    "    'subject': topics,\n",
    "    'format': phys_descriptions,\n",
    "\n",
    "    # dublin core\n",
    "    'language': starting_point['titleInfo']['lang'],\n",
    "    'date': dates,\n",
    "    'type': starting_point['typeOfResource']['$'],\n",
    "    'contributor': starting_point['name']['namePart']['$'],\n",
    "    'rights': metadata['nyplAPI']['response']['rightsStatement']['$'],\n",
    "    'source': source_base_url + metadata['nyplAPI']['request']['uuid']['$'],\n",
    "}\n",
    "\n",
    "for item in nypl_item_data:\n",
    "    print(item, \":\", nypl_item_data[item])"
   ]
  },
  {
   "cell_type": "markdown",
   "metadata": {},
   "source": [
    "## Now match LOC metadata to chosen terms"
   ]
  },
  {
   "cell_type": "code",
   "execution_count": 74,
   "metadata": {},
   "outputs": [
    {
     "name": "stdout",
     "output_type": "stream",
     "text": [
      "{\n",
      "  \"articles_and_essays\": null,\n",
      "  \"cite_this\": {\n",
      "    \"apa\": \"Suzuki, H. (1765) <cite>Semitori</cite\n"
     ]
    }
   ],
   "source": [
    "# read in a sample file\n",
    "with open('C:\\\\Users\\\\abbys\\\\OneDrive\\\\Desktop\\\\si-676\\\\assignment-1\\\\loc-item-metadata\\\\jpd-00139.json', 'r', encoding='utf-8') as file:\n",
    "    loc_metadata = json.load(file)\n",
    "\n",
    "# check if it's there\n",
    "print(json.dumps(loc_metadata, indent=2)[:100])"
   ]
  },
  {
   "cell_type": "code",
   "execution_count": 76,
   "metadata": {},
   "outputs": [
    {
     "name": "stdout",
     "output_type": "stream",
     "text": [
      "access_advisory :\t Restricted access; material extremely fragile; please use online digital image.\n",
      "call_number :\t FP 2 - JPD, no. 136 (A size) [P&P]\n",
      "contributors :\t ['Suzuki, Harunobu, 1725?-1770, artist.']\n",
      "control_number :\t 2009615132\n",
      "created :\t 2016-04-20 16:38:11\n",
      "created_published :\t 1765.\n",
      "created_published_date :\t 1765.\n",
      "creators :\t [{'link': '//www.loc.gov/pictures/related/?fi=name&q=Suzuki%2C%20Harunobu%2C%201725%3F-1770&co=jpd', 'role': 'artist', 'title': 'Suzuki, Harunobu, 1725?-1770'}]\n",
      "date :\t 1765.\n",
      "digital_id :\t ['jpd 00139 //hdl.loc.gov/loc.pnp/jpd.00139']\n",
      "display_offsite :\t True\n",
      "format :\t ['still image']\n",
      "formats :\t [{'link': '//www.loc.gov/pictures/related/?fi=format&q=Ukiyo-e--Japanese--1760-1770.&co=jpd', 'title': 'Ukiyo-e--Japanese--1760-1770.'}, {'link': '//www.loc.gov/pictures/related/?fi=format&q=Woodcuts--Japanese--Color--1760-1770.&co=jpd', 'title': 'Woodcuts--Japanese--Color--1760-1770.'}]\n",
      "genre :\t ['Ukiyo-e--Japanese--1760-1770', 'Woodcuts--Japanese--Color--1760-1770']\n",
      "id :\t 2009615132\n",
      "language :\t ['jpn']\n",
      "link :\t //www.loc.gov/pictures/item/2009615132/\n",
      "location :\t ['Japan']\n",
      "marc :\t //www.loc.gov/pictures/item/2009615132/marc/\n",
      "medium :\t ['1 print : woodcut, color ; 27.7 x 19.1 cm.']\n",
      "medium_brief :\t 1 print :\n",
      "mediums :\t ['1 print : woodcut, color ; 27.7 x 19.1 cm.']\n",
      "modified :\t 2016-04-20 16:38:11\n",
      "notes :\t ['Title and other descriptive information compiled by Nichibunken-sponsored Edo print specialists in 2005-2006.', 'Format: vertical Chuban Nishikie.', 'Egoyomi. Early work.', 'Forms part of: Japanese prints and drawings (Library of Congress).']\n",
      "number_former_id :\t ['https://www.loc.gov/item/2009615132', 'https://www.loc.gov/item/jpd2005000136']\n",
      "other_title :\t ['Catching crickets.']\n",
      "place :\t [{'latitude': '', 'link': '//www.loc.gov/pictures/related/?fi=place&q=Japan&co=jpd', 'longitude': '', 'title': 'Japan'}]\n",
      "repository :\t Library of Congress Prints and Photographs Division Washington, D.C. 20540 USA http://hdl.loc.gov/loc.pnp/pp.print\n",
      "reproduction_number :\t LC-DIG-jpd-00139 (digital file from original print)\n",
      "resource_links :\t ['//hdl.loc.gov/loc.pnp/jpd.00139']\n",
      "restriction :\t Restricted access; material extremely fragile; please use online digital image.\n",
      "rights_advisory :\t No known restrictions on publication.\n",
      "rights_information :\t No known restrictions on publication.\n",
      "service_low :\t https://tile.loc.gov/storage-services/service/pnp/jpd/00100/00139_150px.jpg\n",
      "service_medium :\t https://tile.loc.gov/storage-services/service/pnp/jpd/00100/00139r.jpg\n",
      "sort_date :\t 1765\n",
      "source_created :\t 2005-02-03 00:00:00\n",
      "source_modified :\t 2009-05-26 14:07:18\n",
      "subject_headings :\t ['Women--Domestic life--Japan--1760-1770.', 'Children--Japan--1760-1770.', 'Recreation--Japan--1760-1770.', 'Crickets--Japan--1760-1770.', 'Japan']\n",
      "subjects :\t ['Women--Domestic life--Japan--1760-1770', 'Children--Japan--1760-1770', 'Recreation--Japan--1760-1770', 'Crickets--Japan--1760-1770']\n",
      "summary :\t Print shows a woman and a child catching crickets.\n",
      "thumb_gallery :\t https://tile.loc.gov/storage-services/service/pnp/jpd/00100/00139_150px.jpg\n",
      "title :\t Semitori\n",
      "translated_title :\t ['Catching crickets.']\n"
     ]
    }
   ],
   "source": [
    "# now take a look at the \"item\" key\n",
    "for attribute in loc_metadata['item']['item'].items():\n",
    "    print(attribute[0], ':\\t', attribute[1])"
   ]
  },
  {
   "cell_type": "code",
   "execution_count": 80,
   "metadata": {},
   "outputs": [],
   "source": [
    "# for reusability, you may want to write this to a file\n",
    "\n",
    "loc_metadata_fields_file = 'C:\\\\Users\\\\abbys\\\\OneDrive\\\\Desktop\\\\si-676\\\\assignment-1\\\\loc-metadata-fields.txt'\n",
    "\n",
    "with open(loc_metadata_fields_file, 'w') as f:\n",
    "    f.write('attribute\\tvalue\\n')\n",
    "    for attribute in loc_metadata['item']['item'].items():\n",
    "        f.write(str(attribute[0]) + '\\t' + str(attribute[1]) + '\\n')"
   ]
  },
  {
   "cell_type": "code",
   "execution_count": null,
   "metadata": {},
   "outputs": [
    {
     "name": "stdout",
     "output_type": "stream",
     "text": [
      "title : Semitori\n",
      "genre : ['Ukiyo-e--Japanese--1760-1770', 'Woodcuts--Japanese--Color--1760-1770']\n",
      "placeOfOrigin : ['Japan']\n",
      "subject : ['Women--Domestic life--Japan--1760-1770', 'Children--Japan--1760-1770', 'Recreation--Japan--1760-1770', 'Crickets--Japan--1760-1770']\n",
      "format : ['1 print : woodcut, color ; 27.7 x 19.1 cm.']\n",
      "language : ['jpn']\n",
      "date : 1765.\n",
      "type : ['still image']\n",
      "contributor : ['Suzuki, Harunobu, 1725?-1770, artist.']\n",
      "rights : No known restrictions on publication.\n",
      "source : https://www.loc.gov/item/2009615132\n",
      "alternativeTitle : ['Catching crickets.']\n"
     ]
    }
   ],
   "source": [
    "starting_point = loc_metadata['item']['item']\n",
    "\n",
    "source_base_url = 'https://www.loc.gov/item/'\n",
    "\n",
    "# build data structure\n",
    "loc_item_data = {\n",
    "    # mods\n",
    "    'title': starting_point['title'],\n",
    "    'genre': starting_point['genre'],\n",
    "    'placeOfOrigin': starting_point['location'],\n",
    "    'subject': starting_point['subjects'],\n",
    "    'format': starting_point['medium'],\n",
    "\n",
    "    # dublin core\n",
    "    'language': starting_point['language'],\n",
    "    'date': starting_point['date'],\n",
    "    'type': starting_point['format'],\n",
    "    'contributor': starting_point['contributors'],\n",
    "    'rights': starting_point['rights_information'],\n",
    "    'source': source_base_url + starting_point['control_number'],\n",
    "    'alternativeTitle': starting_point['other_title']\n",
    "}\n",
    "\n",
    "for item in loc_item_data:\n",
    "    print(item, \":\", loc_item_data[item])"
   ]
  }
 ],
 "metadata": {
  "kernelspec": {
   "display_name": "Python 3",
   "language": "python",
   "name": "python3"
  },
  "language_info": {
   "codemirror_mode": {
    "name": "ipython",
    "version": 3
   },
   "file_extension": ".py",
   "mimetype": "text/x-python",
   "name": "python",
   "nbconvert_exporter": "python",
   "pygments_lexer": "ipython3",
   "version": "3.12.3"
  }
 },
 "nbformat": 4,
 "nbformat_minor": 2
}
