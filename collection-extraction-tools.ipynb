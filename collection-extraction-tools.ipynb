{
 "cells": [
  {
   "cell_type": "markdown",
   "metadata": {},
   "source": [
    "# Collection Building Assignment: Extract Collection Data (Step 1)\n",
    "## Extract Collection Data\n",
    "### 1. Get collection list"
   ]
  },
  {
   "cell_type": "code",
   "execution_count": 14,
   "metadata": {},
   "outputs": [],
   "source": [
    "import requests\n",
    "import json\n",
    "import csv\n",
    "\n",
    "url = 'https://www.loc.gov/free-to-use/dragons/'"
   ]
  },
  {
   "cell_type": "code",
   "execution_count": 15,
   "metadata": {},
   "outputs": [
    {
     "name": "stdout",
     "output_type": "stream",
     "text": [
      "200 https://www.loc.gov/free-to-use/dragons/?fo=json\n",
      "wrote json-data.json\n"
     ]
    }
   ],
   "source": [
    "# download json representation of the set\n",
    "parameters = {'fo': 'json'}\n",
    "\n",
    "def download_json(url):\n",
    "    r = requests.get(url, params=parameters)\n",
    "    print(r.status_code, r.url)\n",
    "\n",
    "    with open('json-data.json', 'w', encoding='utf-8') as f:\n",
    "        string_as_json = json.loads(r.text)\n",
    "        f.write(json.dumps(string_as_json, indent=2))\n",
    "        print('wrote',f.name)\n",
    "\n",
    "download_json(url)"
   ]
  },
  {
   "cell_type": "code",
   "execution_count": 16,
   "metadata": {},
   "outputs": [
    {
     "name": "stdout",
     "output_type": "stream",
     "text": [
      "there are 44 items in the set\n",
      "wrote ftu-dragons-collection-list.csv\n"
     ]
    }
   ],
   "source": [
    "# examine json representation of the set\n",
    "with open('json-data.json', 'r') as f:\n",
    "    data = json.load(f)\n",
    "    items = data['content']['set']['items']\n",
    "\n",
    "    print('there are', len(items), 'items in the set')\n",
    "\n",
    "    # save in list for csv\n",
    "    fields = ['alt', 'image', 'link', 'title']\n",
    "    with open('ftu-dragons-collection-list.csv', 'w', newline='', encoding='utf-8') as csv_f:\n",
    "        writer = csv.DictWriter(csv_f, fieldnames=fields)\n",
    "        writer.writeheader()\n",
    "        writer.writerows(items)\n",
    "        print('wrote', csv_f.name)"
   ]
  },
  {
   "cell_type": "markdown",
   "metadata": {},
   "source": [
    "### 2. Harvest the metadata for each item in the collection"
   ]
  },
  {
   "cell_type": "code",
   "execution_count": 17,
   "metadata": {},
   "outputs": [
    {
     "name": "stdout",
     "output_type": "stream",
     "text": [
      "1 200 https://www.loc.gov/resource/rbc0001.2011rosen0007/?sp=269&fo=json\n",
      "2 404 https://www.loc.gov/resource/highsm.52549/?fo=json\n",
      "could not get item 3\n",
      "3 200 https://www.loc.gov/resource/music.musihas-200215965/?fo=json\n",
      "4 404 https://www.loc.gov/resource/jpd.01469/?fo=json\n",
      "could not get item 5\n",
      "5 404 https://www.loc.gov/resource/ppmsca.42001/?fo=json\n",
      "could not get item 6\n",
      "6 404 https://www.loc.gov/resource/highsm.37303/?fo=json\n",
      "could not get item 7\n",
      "7 404 https://www.loc.gov/resource/cph.3b16717/?fo=json\n",
      "could not get item 8\n",
      "8 404 https://www.loc.gov/resource/ppmsca.30768/?fo=json\n",
      "could not get item 9\n",
      "9 404 https://www.loc.gov/resource/ggbain.16338/?fo=json\n",
      "could not get item 10\n",
      "10 404 https://www.loc.gov/resource/mrg.02997/?fo=json\n",
      "could not get item 11\n",
      "11 404 https://www.loc.gov/resource/ppmsca.06618/?fo=json\n",
      "could not get item 12\n",
      "12 404 https://www.loc.gov/resource/jpd.01939/?fo=json\n",
      "could not get item 13\n",
      "13 404 https://www.loc.gov/resource/highsm.47472/?fo=json\n",
      "could not get item 14\n",
      "14 404 https://www.loc.gov/resource/hhh.il0330.photos?fo=json\n",
      "could not get item 15\n",
      "15 404 https://www.loc.gov/resource/ppmsca.43436/?fo=json\n",
      "could not get item 16\n",
      "16 404 https://www.loc.gov/resource/hhh.ca1567.photos/?sp=80&st=image&fo=json\n",
      "could not get item 17\n",
      "17 404 https://www.loc.gov/resource/mrg.03489/?fo=json\n",
      "could not get item 18\n",
      "18 404 https://www.loc.gov/resource/ppmsca.26391/?fo=json\n",
      "could not get item 19\n",
      "19 404 https://www.loc.gov/resource/cph.3g10050/?fo=json\n",
      "could not get item 20\n",
      "20 404 https://www.loc.gov/resource/var.1281/?fo=json\n",
      "could not get item 21\n",
      "21 404 https://www.loc.gov/resource/lambdc.01748/?fo=json\n",
      "could not get item 22\n",
      "22 200 https://www.loc.gov/resource/g3200m.gct00126/?sp=106&r=0.695,0.089,0.136,0.049,0&fo=json\n",
      "23 404 https://www.loc.gov/resource/ggbain.37571/?fo=json\n",
      "could not get item 24\n",
      "24 404 https://www.loc.gov/resource/stereo.1s12515/?fo=json\n",
      "could not get item 25\n",
      "25 404 https://www.loc.gov/resource/highsm.40447/?fo=json\n",
      "could not get item 26\n",
      "26 404 https://www.loc.gov/resource/rbcmil.scrp7005601/?sp=1&fo=json\n",
      "could not get item 27\n",
      "27 404 https://www.loc.gov/resource/mrg.02497/?fo=json\n",
      "could not get item 28\n",
      "28 404 https://www.loc.gov/resource/jpd.01559/?fo=json\n",
      "could not get item 29\n",
      "29 404 https://www.loc.gov/resource/agc.7a04931/?fo=json\n",
      "could not get item 30\n",
      "30 404 https://www.loc.gov/resource/trmk.1t14690/?fo=json\n",
      "could not get item 31\n",
      "31 404 https://www.loc.gov/resource/cph.3g10363/?fo=json\n",
      "could not get item 32\n",
      "32 404 https://www.loc.gov/resource/cph.3b12369/?fo=json\n",
      "could not get item 33\n",
      "33 200 https://www.loc.gov/resource/gmdkislak.1991_164_00_0001/?sp=1&fo=json\n",
      "34 404 https://www.loc.gov/resource/highsm.06071/?fo=json\n",
      "could not get item 35\n",
      "35 404 https://www.loc.gov/resource/rbctos.2017gen04040/?sp=432&st=image&fo=json\n",
      "could not get item 36\n",
      "36 404 https://www.loc.gov/resource/highsm.55218/?fo=json\n",
      "could not get item 37\n",
      "37 200 https://www.loc.gov/resource/gdcmassbookdig.chopchingoldendr00rich/?sp=8&st=image&fo=json\n",
      "38 200 https://www.loc.gov/resource/gdcmassbookdig.princedragons00jenk/?sp=56&fo=json\n",
      "39 200 https://www.loc.gov/resource/gdcmassbookdig.dragonjuggernaut00howe/?sp=7&fo=json\n",
      "40 404 https://www.loc.gov/resource/ppmsca.28946/?fo=json\n",
      "could not get item 41\n",
      "41 404 https://www.loc.gov/resource/ppmsca.30863/?fo=json\n",
      "could not get item 42\n",
      "could not get item 42\n",
      "could not get item 42\n",
      "42 404 https://www.loc.gov/resource/cai.2a11576/?fo=json\n",
      "could not get item 43\n"
     ]
    }
   ],
   "source": [
    "def get_metadata(items):\n",
    "    \n",
    "    base_url = 'https://www.loc.gov'\n",
    "    counter = 1\n",
    "    # request and download full item metadata for each item in the set\n",
    "    for item in items:\n",
    "\n",
    "        # get rest of metadata\n",
    "        resource = item['link']\n",
    "\n",
    "        # get resource ID\n",
    "        resourceID = resource.split('/')[2]\n",
    "        resourceID = resourceID.replace('.', '-')\n",
    "    \n",
    "        try:\n",
    "            r = requests.get(base_url + resource, params={'fo': 'json'})\n",
    "            print(counter, r.status_code, r.url)\n",
    "            counter += 1\n",
    "\n",
    "            string_as_json = json.loads(r.text)\n",
    "\n",
    "            \n",
    "            # download and save image (grab highest quality)\n",
    "            image_url = string_as_json['item']['image_url'][len(string_as_json['item']['image_url']) - 1]\n",
    "            image = requests.get(image_url).content\n",
    "            image_file = open('item-files/' + resourceID + '.jpg', 'wb')\n",
    "            image_file.write(image)\n",
    "            image_file.close()\n",
    "\n",
    "            # write rest of metadata to json file\n",
    "            file = open('item-metadata/' + resourceID + '.json', 'w')\n",
    "            file.write(r.text)\n",
    "            file.close()\n",
    "        except:\n",
    "            print('could not get item', counter)\n",
    "\n",
    "get_metadata(items)"
   ]
  }
 ],
 "metadata": {
  "kernelspec": {
   "display_name": "Python 3",
   "language": "python",
   "name": "python3"
  },
  "language_info": {
   "codemirror_mode": {
    "name": "ipython",
    "version": 3
   },
   "file_extension": ".py",
   "mimetype": "text/x-python",
   "name": "python",
   "nbconvert_exporter": "python",
   "pygments_lexer": "ipython3",
   "version": "3.12.3"
  }
 },
 "nbformat": 4,
 "nbformat_minor": 2
}
