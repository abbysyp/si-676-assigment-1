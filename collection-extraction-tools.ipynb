{
 "cells": [
  {
   "cell_type": "markdown",
   "metadata": {},
   "source": [
    "# Collection Building Assignment: Extract Collection Data (Step 1)\n",
    "## Extract Collection Data\n",
    "### 1. Get collection list"
   ]
  },
  {
   "cell_type": "code",
   "execution_count": 1,
   "metadata": {},
   "outputs": [],
   "source": [
    "import requests\n",
    "import json\n",
    "import csv\n",
    "\n",
    "url = 'https://www.loc.gov/free-to-use/japanese-prints/'"
   ]
  },
  {
   "cell_type": "code",
   "execution_count": 2,
   "metadata": {},
   "outputs": [
    {
     "name": "stdout",
     "output_type": "stream",
     "text": [
      "200 https://www.loc.gov/free-to-use/japanese-prints/?fo=json\n",
      "wrote json-data.json\n"
     ]
    }
   ],
   "source": [
    "# download json representation of the set\n",
    "parameters = {'fo': 'json'}\n",
    "\n",
    "def download_json(url):\n",
    "    r = requests.get(url, params=parameters)\n",
    "    print(r.status_code, r.url)\n",
    "\n",
    "    with open('json-data.json', 'w', encoding='utf-8') as f:\n",
    "        string_as_json = json.loads(r.text)\n",
    "        f.write(json.dumps(string_as_json, indent=2))\n",
    "        print('wrote',f.name)\n",
    "\n",
    "download_json(url)"
   ]
  },
  {
   "cell_type": "code",
   "execution_count": 3,
   "metadata": {},
   "outputs": [
    {
     "name": "stdout",
     "output_type": "stream",
     "text": [
      "there are 29 items in the set\n",
      "wrote ftu-japanese-prints-collection-list.csv\n"
     ]
    }
   ],
   "source": [
    "# examine json representation of the set\n",
    "with open('json-data.json', 'r') as f:\n",
    "    data = json.load(f)\n",
    "    items = data['content']['set']['items']\n",
    "\n",
    "    print('there are', len(items), 'items in the set')\n",
    "\n",
    "    # save in list for csv\n",
    "    fields = ['image', 'link', 'title']\n",
    "    with open('ftu-japanese-prints-collection-list.csv', 'w', newline='', encoding='utf-8') as csv_f:\n",
    "        writer = csv.DictWriter(csv_f, fieldnames=fields)\n",
    "        writer.writeheader()\n",
    "        writer.writerows(items)\n",
    "        print('wrote', csv_f.name)"
   ]
  },
  {
   "cell_type": "markdown",
   "metadata": {},
   "source": [
    "### 2. Harvest the metadata for each item in the collection"
   ]
  },
  {
   "cell_type": "code",
   "execution_count": 4,
   "metadata": {},
   "outputs": [
    {
     "name": "stdout",
     "output_type": "stream",
     "text": [
      "could not get item 1\n",
      "1 200 https://www.loc.gov/resource/jpd.00154/?fo=json\n",
      "2 200 https://www.loc.gov/resource/jpd.02457/?fo=json\n",
      "3 200 https://www.loc.gov/resource/cph.3g10434/?fo=json\n",
      "4 200 https://www.loc.gov/resource/jpd.02608/?fo=json\n",
      "5 200 https://www.loc.gov/resource/cph.3g10372/?fo=json\n",
      "6 200 https://www.loc.gov/resource/cph.3g10521/?fo=json\n",
      "7 200 https://www.loc.gov/resource/cph.3g08479/?fo=json\n",
      "8 200 https://www.loc.gov/resource/cph.3g10539/?fo=json\n",
      "9 200 https://www.loc.gov/resource/jpd.00046/?fo=json\n",
      "10 200 https://www.loc.gov/resource/jpd.01307/?fo=json\n",
      "11 200 https://www.loc.gov/resource/jpd.00507/?fo=json\n",
      "12 200 https://www.loc.gov/resource/jpd.01317/?fo=json\n",
      "13 200 https://www.loc.gov/resource/jpd.01581/?fo=json\n",
      "14 200 https://www.loc.gov/resource/jpd.00181/?fo=json\n",
      "15 200 https://www.loc.gov/resource/jpd.00139/?fo=json\n",
      "16 200 https://www.loc.gov/resource/jpd.01271/?fo=json\n",
      "17 200 https://www.loc.gov/resource/jpd.02467/?fo=json\n",
      "18 200 https://www.loc.gov/resource/jpd.01822/?fo=json\n",
      "19 200 https://www.loc.gov/resource/jpd.01803/?fo=json\n",
      "20 200 https://www.loc.gov/resource/jpd.00790/?fo=json\n",
      "21 200 https://www.loc.gov/resource/jpd.00278/?fo=json\n",
      "22 200 https://www.loc.gov/resource/jpd.02925/?fo=json\n",
      "23 200 https://www.loc.gov/resource/jpd.01197/?fo=json\n",
      "24 200 https://www.loc.gov/resource/jpd.02148/?fo=json\n",
      "25 200 https://www.loc.gov/resource/jpd.01328/?fo=json\n",
      "26 200 https://www.loc.gov/resource/jpd.00501/?fo=json\n",
      "27 200 https://www.loc.gov/resource/jpd.02015/?fo=json\n",
      "28 200 https://www.loc.gov/resource/jpd.01361/?fo=json\n"
     ]
    }
   ],
   "source": [
    "def get_metadata(items):\n",
    "    \n",
    "    base_url = 'https://www.loc.gov'\n",
    "    counter = 0\n",
    "    # request and download full item metadata for each item in the set\n",
    "    for item in items:\n",
    "\n",
    "        # get rest of metadata\n",
    "        resource = item['link']\n",
    "\n",
    "        # get resource ID\n",
    "        resourceID = resource.split('/')[2]\n",
    "        resourceID = resourceID.replace('.', '-')\n",
    "    \n",
    "        try:\n",
    "            r = requests.get(base_url + resource, params={'fo': 'json'})\n",
    "            print(counter, r.status_code, r.url)\n",
    "            counter += 1\n",
    "\n",
    "            string_as_json = json.loads(r.text)\n",
    "\n",
    "            \n",
    "            # download and save image (grab highest quality)\n",
    "            image_url = string_as_json['item']['image_url'][len(string_as_json['item']['image_url']) - 1]\n",
    "            image = requests.get(image_url).content\n",
    "            image_file = open('loc-item-files/' + resourceID + '.jpg', 'wb')\n",
    "            image_file.write(image)\n",
    "            image_file.close()\n",
    "\n",
    "            # write rest of metadata to json file\n",
    "            file = open('loc-item-metadata/' + resourceID + '.json', 'w')\n",
    "            file.write(r.text)\n",
    "            file.close()\n",
    "        except:\n",
    "            print('could not get item', counter)\n",
    "\n",
    "get_metadata(items)"
   ]
  }
 ],
 "metadata": {
  "kernelspec": {
   "display_name": "Python 3",
   "language": "python",
   "name": "python3"
  },
  "language_info": {
   "codemirror_mode": {
    "name": "ipython",
    "version": 3
   },
   "file_extension": ".py",
   "mimetype": "text/x-python",
   "name": "python",
   "nbconvert_exporter": "python",
   "pygments_lexer": "ipython3",
   "version": "3.12.3"
  }
 },
 "nbformat": 4,
 "nbformat_minor": 2
}
