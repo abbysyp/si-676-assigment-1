{
 "cells": [
  {
   "cell_type": "markdown",
   "metadata": {},
   "source": [
    "## Accessing the Omeka S API"
   ]
  },
  {
   "cell_type": "code",
   "execution_count": 2,
   "metadata": {},
   "outputs": [],
   "source": [
    "import requests\n",
    "import json"
   ]
  },
  {
   "cell_type": "code",
   "execution_count": 3,
   "metadata": {},
   "outputs": [],
   "source": [
    "# establish API location/endpoints\n",
    "\n",
    "siteUrl = 'http://abbysyp.si676.si.umich.edu/omeka-s' # if you replicate this example, provide the URI for your site\n",
    "endpoint = '/api'"
   ]
  },
  {
   "cell_type": "markdown",
   "metadata": {},
   "source": [
    "### Get Credentials"
   ]
  },
  {
   "cell_type": "code",
   "execution_count": 4,
   "metadata": {},
   "outputs": [],
   "source": [
    "def get_credentials(credential_file_path):\n",
    "    '''Retrieve Omeka S Api credentials from another file. \n",
    "    That file must be a JSON file.'''\n",
    "\n",
    "    with open(credential_file_path, 'r') as credentials:\n",
    "        keys = json.load(credentials)\n",
    "    \n",
    "    return keys['key_identity'], keys['key_credential']"
   ]
  },
  {
   "cell_type": "code",
   "execution_count": null,
   "metadata": {},
   "outputs": [],
   "source": [
    "# retrieve API credentials\n",
    "\n",
    "credential_file_path = 'omeka-credentials.json'\n",
    "\n",
    "key_identity, key_credential = get_credentials(credential_file_path)\n",
    "\n",
    "print('key_identity:',key_identity,'\\nkey_credential:',key_credential)"
   ]
  },
  {
   "cell_type": "markdown",
   "metadata": {},
   "source": [
    "### Add a new item"
   ]
  },
  {
   "cell_type": "code",
   "execution_count": 6,
   "metadata": {},
   "outputs": [],
   "source": [
    "action = '/items'\n",
    "\n",
    "parameters = {\n",
    "    'key_credential': key_credential,\n",
    "    'key_identity'  : key_identity\n",
    "}\n",
    "\n",
    "headers = {\n",
    "    'Content-Type': 'application/json'\n",
    "}"
   ]
  },
  {
   "cell_type": "code",
   "execution_count": 7,
   "metadata": {},
   "outputs": [],
   "source": [
    "# create data for a new item\n",
    "\n",
    "data = { \n",
    "    \"dcterms:title\": [{\n",
    "        \"property_id\": 1,\n",
    "        \"property_label\": \"Title\",\n",
    "        \"@value\": \"A Mere Title for an item created via the API\",\n",
    "        \"type\": \"literal\",\n",
    "        \"@language\": \"en-us\"\n",
    "        }],\n",
    "    \"dcterms:rights\": [{\n",
    "        \"type\": \"literal\",\n",
    "        \"property_id\": 15,\n",
    "        \"property_label\": \"Rights\",\n",
    "        \"is_public\": True,\n",
    "        \"@value\": \"No known restrictions on publication.\",\n",
    "        \"@language\": \"en-us\"\n",
    "        }]\n",
    "    }"
   ]
  },
  {
   "cell_type": "markdown",
   "metadata": {},
   "source": [
    "### Get item list"
   ]
  },
  {
   "cell_type": "code",
   "execution_count": 14,
   "metadata": {},
   "outputs": [
    {
     "name": "stdout",
     "output_type": "stream",
     "text": [
      "http://abbysyp.si676.si.umich.edu/omeka-s/api/items\n"
     ]
    }
   ],
   "source": [
    "# assemble URI\n",
    "action = '/items'\n",
    "\n",
    "r_url = siteUrl + endpoint + action\n",
    "\n",
    "print(r_url)"
   ]
  },
  {
   "cell_type": "code",
   "execution_count": 15,
   "metadata": {},
   "outputs": [],
   "source": [
    "# set up parameters\n",
    "\n",
    "parameters = {\n",
    "    'key_credential': key_credential,\n",
    "    'key_identity':   key_identity,\n",
    "    'pretty_print':   1,\n",
    "    'format':         'jsonld'\n",
    "}"
   ]
  },
  {
   "cell_type": "code",
   "execution_count": 16,
   "metadata": {},
   "outputs": [
    {
     "name": "stdout",
     "output_type": "stream",
     "text": [
      "http://abbysyp.si676.si.umich.edu/omeka-s/api/items?key_credential=A4St2rkG13keWiG88MEFpuyzAwef4Y58&key_identity=CJ504nDwumcJWwesBxRKjQQ8PXFipl7B&pretty_print=1&format=jsonld\n",
      "200\n"
     ]
    }
   ],
   "source": [
    "\n",
    "r = requests.get(r_url, params=parameters)\n",
    "\n",
    "print(r.url)\n",
    "print(r.status_code)"
   ]
  },
  {
   "cell_type": "code",
   "execution_count": 17,
   "metadata": {},
   "outputs": [
    {
     "data": {
      "text/plain": [
       "0"
      ]
     },
     "execution_count": 17,
     "metadata": {},
     "output_type": "execute_result"
    }
   ],
   "source": [
    "len(r.json())"
   ]
  },
  {
   "cell_type": "code",
   "execution_count": 18,
   "metadata": {},
   "outputs": [],
   "source": [
    "for element in r.json():\n",
    "    print(element)"
   ]
  }
 ],
 "metadata": {
  "kernelspec": {
   "display_name": "Python 3",
   "language": "python",
   "name": "python3"
  },
  "language_info": {
   "codemirror_mode": {
    "name": "ipython",
    "version": 3
   },
   "file_extension": ".py",
   "mimetype": "text/x-python",
   "name": "python",
   "nbconvert_exporter": "python",
   "pygments_lexer": "ipython3",
   "version": "3.12.3"
  }
 },
 "nbformat": 4,
 "nbformat_minor": 2
}
